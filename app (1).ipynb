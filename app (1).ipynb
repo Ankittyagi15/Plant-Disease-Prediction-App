{
 "cells": [
  {
   "cell_type": "code",
   "execution_count": 1,
   "id": "70c6195c-777f-4d24-9a60-d706b1f4551e",
   "metadata": {},
   "outputs": [
    {
     "name": "stderr",
     "output_type": "stream",
     "text": [
      "2025-07-21 17:22:30.638 \n",
      "  \u001b[33m\u001b[1mWarning:\u001b[0m to view this Streamlit app on a browser, run it with the following\n",
      "  command:\n",
      "\n",
      "    streamlit run /Applications/anaconda3/lib/python3.12/site-packages/ipykernel_launcher.py [ARGUMENTS]\n",
      "2025-07-21 17:22:30.641 Session state does not function when running a script without `streamlit run`\n"
     ]
    }
   ],
   "source": [
    "import streamlit as st\n",
    "import pandas as pd\n",
    "import numpy as np\n",
    "import pickle\n",
    "import os\n",
    "\n",
    "# Streamlit UI\n",
    "st.set_page_config(page_title=\"🌾 Plant Disease Predictor\", layout=\"centered\")\n",
    "\n",
    "st.title(\"🌱 Plant Disease Prediction App\")\n",
    "st.markdown(\"Enter environmental conditions to predict if the plant is **diseased** or **healthy**.\")\n",
    "\n",
    "# Check if model file exists and load it\n",
    "model_path = 'plant_disease_detection_model.pkl'\n",
    "try:\n",
    "    if os.path.exists(model_path):\n",
    "        with open(model_path, 'rb') as f:\n",
    "            model = pickle.load(f)\n",
    "        model_loaded = True\n",
    "    else:\n",
    "        st.warning(\"⚠️ Model file not found. Running in demo mode.\")\n",
    "        model_loaded = False\n",
    "except Exception as e:\n",
    "    st.error(f\"Error loading model: {e}\")\n",
    "    model_loaded = False\n",
    "\n",
    "# Input fields\n",
    "temperature = st.number_input(\"🌡️ Temperature (°C)\", min_value=0.0, max_value=50.0, value=25.0, step=0.1)\n",
    "humidity = st.number_input(\"💧 Humidity (%)\", min_value=0.0, max_value=100.0, value=50.0, step=0.1)\n",
    "rainfall = st.number_input(\"🌧️ Rainfall (mm)\", min_value=0.0, max_value=500.0, value=20.0, step=0.1)\n",
    "soil_pH = st.number_input(\"🧪 Soil pH\", min_value=0.0, max_value=14.0, value=6.5, step=0.1)\n",
    "\n",
    "# Predict button\n",
    "if st.button(\"🔍 Predict\"):\n",
    "    input_data = np.array([[temperature, humidity, rainfall, soil_pH]])\n",
    "    \n",
    "    if model_loaded:\n",
    "        prediction = model.predict(input_data)\n",
    "        if prediction[0] == 1:\n",
    "            st.error(\"🚨 The plant is likely to be **Diseased**.\")\n",
    "        else:\n",
    "            st.success(\"✅ The plant is likely to be **Healthy**.\")\n",
    "    else:\n",
    "        # Demo mode - just a placeholder prediction\n",
    "        st.info(\"📝 Demo prediction (model not loaded): This is a simulated result.\")\n",
    "        if temperature > 30 and humidity > 70:\n",
    "            st.error(\"🚨 The plant is likely to be **Diseased**.\")\n",
    "        else:\n",
    "            st.success(\"✅ The plant is likely to be **Healthy**.\")"
   ]
  },
  {
   "cell_type": "code",
   "execution_count": null,
   "id": "34871f67-531f-434c-b4d6-21bdca9834bc",
   "metadata": {},
   "outputs": [],
   "source": []
  }
 ],
 "metadata": {
  "kernelspec": {
   "display_name": "Python [conda env:base] *",
   "language": "python",
   "name": "conda-base-py"
  },
  "language_info": {
   "codemirror_mode": {
    "name": "ipython",
    "version": 3
   },
   "file_extension": ".py",
   "mimetype": "text/x-python",
   "name": "python",
   "nbconvert_exporter": "python",
   "pygments_lexer": "ipython3",
   "version": "3.12.7"
  }
 },
 "nbformat": 4,
 "nbformat_minor": 5
}
